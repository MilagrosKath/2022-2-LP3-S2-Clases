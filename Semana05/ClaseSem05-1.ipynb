{
 "cells": [
  {
   "cell_type": "code",
   "execution_count": 2,
   "id": "b08efccc",
   "metadata": {},
   "outputs": [
    {
     "name": "stdout",
     "output_type": "stream",
     "text": [
      "Producto 1: 200\n",
      "Producto 2: 150\n",
      "Producto 3: 10\n",
      "El total a pagar es: 360.0\n"
     ]
    }
   ],
   "source": [
    "# Solución\n",
    "P1 = float(input(\"Producto 1: \"))\n",
    "P2 = float(input(\"Producto 2: \"))\n",
    "P3 = float(input(\"Producto 3: \"))\n",
    "total = P1 + P2 + P3\n",
    "if total>=1000:\n",
    "    total *= 0.9\n",
    "print(f\"El total a pagar es: {total}\")"
   ]
  },
  {
   "cell_type": "code",
   "execution_count": 3,
   "id": "87a5a4a7",
   "metadata": {},
   "outputs": [],
   "source": [
    "# IF-ELSE"
   ]
  },
  {
   "cell_type": "code",
   "execution_count": 4,
   "id": "db2d4c41",
   "metadata": {},
   "outputs": [],
   "source": [
    "#Dado una lista[AQUINO, ARCOS, BALDEON, BARZOLA, BELLO, CACHAY, CARRASCO, CIRIACO, DELGADO, GAYOSO, GONZALES, GRANADOS, HUAMAN, LLANOS,LUQUE, PINEDA, PRADO, QUIJAHUAMAN, QUISPE ,RAKAUSKAS, RAMOS, ROJAS, SOTO,ZARATE]\n",
    "# Diseñar un código que muestre si el apellido de un estudiante (Ingresado por teclado) forma parte de la lista"
   ]
  },
  {
   "cell_type": "code",
   "execution_count": 5,
   "id": "592fe2f9",
   "metadata": {},
   "outputs": [
    {
     "name": "stdout",
     "output_type": "stream",
     "text": [
      "Ingrese nombrea buscar: Gonzales\n",
      "Si está en la lista de LP3\n"
     ]
    }
   ],
   "source": [
    "# Solución:\n",
    "LP3 = [\"AQUINO\", \"ARCOS\", \"BALDEON\", \"BARZOLA\", \"BELLO\", \"CACHAY\", \"CARRASCO\", \"CIRIACO\", \"DELGADO\", \n",
    "       \"GAYOSO\", \"GONZALES\", \"GRANADOS\", \"HUAMAN\", \"LLANOS\",\"LUQUE\", \"PINEDA\", \"PRADO\", \"QUIJAHUAMAN\",\n",
    "       \"QUISPE\" ,\"RAKAUSKAS\", \"RAMOS\", \"ROJAS\", \"SOTO\", \"ZARATE\"]\n",
    "\n",
    "apellido = input(\"Ingrese nombrea buscar: \")\n",
    "\n",
    "# Como los datos de la lista están en mayúscula, utilizo.upper()\n",
    "\n",
    "if apellido.upper() in LP3:\n",
    "    print(\"Si está en la lista de LP3\")\n",
    "else:\n",
    "    print(\"No está en la lista de LP3\")"
   ]
  },
  {
   "cell_type": "code",
   "execution_count": 6,
   "id": "acc3f221",
   "metadata": {},
   "outputs": [],
   "source": [
    "# Problema 02\n",
    "# Dado el importe total de ventas realizadas por un trabajador (Ingreso por teclado,\n",
    "# Categorizar que tipo de empleado es , considerando la siguiente tabla)\n",
    "\n",
    "# Categoría: A ->[1,1000]\n",
    "# Categoría: B ->[1000,2000]\n",
    "# Categoría: C ->[2000,5000]\n",
    "# Categoría: D ->[5000,Más]\n",
    "# Tiempo:10 minutos"
   ]
  },
  {
   "cell_type": "code",
   "execution_count": 8,
   "id": "3501417d",
   "metadata": {},
   "outputs": [
    {
     "name": "stdout",
     "output_type": "stream",
     "text": [
      "Importe de ventas realizadas por el trabajador: 2510\n",
      "Categoria C\n"
     ]
    }
   ],
   "source": [
    "# Solución\n",
    "ventas = float(input(\"Importe de ventas realizadas por el trabajador: \"))\n",
    "if ventas < 0:\n",
    "    print(\"Datos no correctos\")\n",
    "else:    \n",
    "    if ventas<=1000:\n",
    "        print(\"Categoria A\")\n",
    "    else:\n",
    "        if ventas <=2000:\n",
    "            print(\"Categoria B\")\n",
    "        else:\n",
    "            if ventas <= 5000:\n",
    "                print(\"Categoria C\")\n",
    "            else:\n",
    "                print(\"Categoria D\")"
   ]
  },
  {
   "cell_type": "code",
   "execution_count": 9,
   "id": "3f8ad6e5",
   "metadata": {},
   "outputs": [],
   "source": [
    "# elif\n",
    "# Problema 03\n",
    "# Dado el importe total de ventas realizadas por un trabajador (Ingreso por teclado,\n",
    "# Categorizar que tipo de empleado es , considerando la siguiente tabla)\n",
    "\n",
    "# Categoría: A ->[1,1000]\n",
    "# Categoría: B ->[1000,2000]\n",
    "# Categoría: C ->[2000,5000]\n",
    "# Categoría: D ->[5000,Más]\n",
    "# Tiempo:10 minutos"
   ]
  },
  {
   "cell_type": "code",
   "execution_count": 10,
   "id": "00ed3759",
   "metadata": {},
   "outputs": [
    {
     "name": "stdout",
     "output_type": "stream",
     "text": [
      "Importe de ventas realizadas: 3470\n",
      "Categoría C\n"
     ]
    }
   ],
   "source": [
    "# Solución\n",
    "\n",
    "ventas = float(input(\"Importe de ventas realizadas: \"))\n",
    "if ventas < 0:\n",
    "    print(\"Datos Erroneos\")\n",
    "elif ventas<=1000:\n",
    "    print(\"Categoría A\")\n",
    "elif ventas<=2000:\n",
    "    print(\"categoría B\")\n",
    "elif ventas<=5000:\n",
    "    print(\"Categoría C\")\n",
    "else:\n",
    "    print(\"Categoría D\")"
   ]
  },
  {
   "cell_type": "code",
   "execution_count": 11,
   "id": "b5292442",
   "metadata": {},
   "outputs": [],
   "source": [
    "#1.5 Ejercicio\n",
    "# Dado una lista[AQUINO, ARCOS, BALDEON, BARZOLA, BELLO, CACHAY, CARRASCO, CIRIACO, DELGADO, GAYOSO, GONZALES, GRANADOS, HUAMAN, LLANOS,LUQUE, PINEDA, PRADO, QUIJAHUAMAN, QUISPE ,RAKAUSKAS, RAMOS, ROJAS, SOTO,ZARATE]\n",
    "# Diseñar un código que muestre si el apellido de un estudiante(Ingreasdo por el teclado) forma parte de la lista\n",
    "# Tiempo:10 minutos"
   ]
  },
  {
   "cell_type": "code",
   "execution_count": 13,
   "id": "0672887a",
   "metadata": {},
   "outputs": [
    {
     "name": "stdout",
     "output_type": "stream",
     "text": [
      "Ingrese nombre a buscar: Barzola\n",
      "Si está en la lista de LP3\n"
     ]
    }
   ],
   "source": [
    "# Solución:\n",
    "LP3 = [\"AQUINO\", \"ARCOS\", \"BALDEON\", \"BARZOLA\", \"BELLO\", \"CACHAY\", \"CARRASCO\", \"CIRIACO\", \"DELGADO\", \n",
    "       \"GAYOSO\", \"GONZALES\", \"GRANADOS\", \"HUAMAN\", \"LLANOS\",\"LUQUE\", \"PINEDA\", \"PRADO\", \"QUIJAHUAMAN\",\n",
    "       \"QUISPE\" ,\"RAKAUSKAS\", \"RAMOS\", \"ROJAS\", \"SOTO\", \"ZARATE\"]\n",
    "\n",
    "apellido = input(\"Ingrese nombre a buscar: \")\n",
    "\n",
    "# Como los datos de la lista están en mayúscula, utilizo.upper()\n",
    "\n",
    "if apellido.upper() in LP3:\n",
    "    print(\"Si está en la lista de LP3\")\n",
    "else:\n",
    "    print(\"No está en la lista de LP3\")"
   ]
  },
  {
   "cell_type": "code",
   "execution_count": null,
   "id": "3ab4b654",
   "metadata": {},
   "outputs": [],
   "source": []
  }
 ],
 "metadata": {
  "kernelspec": {
   "display_name": "Python 3 (ipykernel)",
   "language": "python",
   "name": "python3"
  },
  "language_info": {
   "codemirror_mode": {
    "name": "ipython",
    "version": 3
   },
   "file_extension": ".py",
   "mimetype": "text/x-python",
   "name": "python",
   "nbconvert_exporter": "python",
   "pygments_lexer": "ipython3",
   "version": "3.9.12"
  }
 },
 "nbformat": 4,
 "nbformat_minor": 5
}
