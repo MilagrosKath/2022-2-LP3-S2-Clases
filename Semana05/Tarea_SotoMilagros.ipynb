{
 "cells": [
  {
   "cell_type": "code",
   "execution_count": 1,
   "id": "bdb702b3",
   "metadata": {},
   "outputs": [],
   "source": [
    "# Tambien funcionan los bucles anidados:\n",
    "# PROBLEMA 05 \n",
    "# DADO UNA LISTA DE NÚMEROS , UTILIZANDO EL ALGORITMO BURBUJA ORDENARLOS DE MENOR A MAYOR\n",
    "# LISTA: [10,20,5,-10,100,0,50,17,2000,-1000,0]"
   ]
  },
  {
   "cell_type": "code",
   "execution_count": 2,
   "id": "d21efc70",
   "metadata": {},
   "outputs": [
    {
     "name": "stdout",
     "output_type": "stream",
     "text": [
      "[-1000, -10, 0, 0, 5, 10, 17, 20, 50, 100, 2000]\n"
     ]
    }
   ],
   "source": [
    "def ord_burbuja(arreglo):\n",
    "    n = len(arreglo)\n",
    "\n",
    "    for i in range(n-1):       # <-- bucle padre\n",
    "        for j in range(n-1-i): # <-- bucle hijo\n",
    "            if arreglo[j] > arreglo[j+1]:\n",
    "                arreglo[j], arreglo[j+1] = arreglo[j+1], arreglo[j]\n",
    "\n",
    "elementos = [10, 20, 5, -10, 100, 0, 50, 17, 2000, -1000, 0]\n",
    "ord_burbuja(elementos)\n",
    "\n",
    "print(elementos)"
   ]
  },
  {
   "cell_type": "code",
   "execution_count": null,
   "id": "522692eb",
   "metadata": {},
   "outputs": [],
   "source": []
  }
 ],
 "metadata": {
  "kernelspec": {
   "display_name": "Python 3 (ipykernel)",
   "language": "python",
   "name": "python3"
  },
  "language_info": {
   "codemirror_mode": {
    "name": "ipython",
    "version": 3
   },
   "file_extension": ".py",
   "mimetype": "text/x-python",
   "name": "python",
   "nbconvert_exporter": "python",
   "pygments_lexer": "ipython3",
   "version": "3.9.12"
  }
 },
 "nbformat": 4,
 "nbformat_minor": 5
}
